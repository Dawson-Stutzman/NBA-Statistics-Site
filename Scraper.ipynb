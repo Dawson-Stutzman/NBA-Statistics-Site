{
 "cells": [
  {
   "cell_type": "code",
   "execution_count": 24,
   "id": "2b49cd4e-2f32-4c61-bb34-7e858f1636f2",
   "metadata": {},
   "outputs": [],
   "source": [
    "import pandas as pd\n",
    "from bs4 import BeautifulSoup\n",
    "from selenium import webdriver\n",
    "import requests"
   ]
  },
  {
   "cell_type": "code",
   "execution_count": 6,
   "id": "5670369c-9f26-428f-bdeb-753bd93e89e1",
   "metadata": {},
   "outputs": [],
   "source": [
    "df = pd.DataFrame(columns=['Team', 'Conference', 'Division'])"
   ]
  },
  {
   "cell_type": "code",
   "execution_count": 12,
   "id": "a6d7f55d-b05a-4f11-bcb1-f6c775142f79",
   "metadata": {},
   "outputs": [
    {
     "name": "stdout",
     "output_type": "stream",
     "text": [
      "['Atlanta Hawks', 'Boston Celtics', 'Brooklyn Nets', 'Charlotte Hornets', 'Chicago Bulls', 'Cleveland Cavaliers', 'Dallas Mavericks', 'Denver Nuggets', 'Detroit Pistons', 'Golden State Warriors', 'Houston Rockets', 'Indiana Pacers', 'Los Angeles Clippers', 'Los Angeles Lakers', 'Memphis Grizzlies', 'Miami Heat', 'Milwaukee Bucks', 'Minnesota Timberwolves', 'New Orleans Pelicans', 'New York Knicks', 'Oklahoma City Thunder', 'Orlando Magic', 'Philadelphia 76ers', 'Phoenix Suns', 'Portland Trail Blazers', 'Sacramento Kings', 'San Antonio Spurs', 'Toronto Raptors', 'Utah Jazz', 'Washington Wizards']\n"
     ]
    }
   ],
   "source": [
    "url = 'https://sportytell.com/nba/list-of-nba-teams/'\n",
    "\n",
    "response = requests.get(url)\n",
    "\n",
    "soup = BeautifulSoup(response.content, 'html.parser')\n",
    "#print(soup.prettify())\n",
    "div = soup.find('div', class_='thecontent')\n",
    "# Find the first <ul> within that <div>\n",
    "ul = div.find('ul') if div else None\n",
    "data = []\n",
    "# Print the <ul> element\n",
    "if ul:\n",
    "    for team in ul.find_all('li'):\n",
    "        data.append(team.get_text())\n",
    "else:\n",
    "    print(\"No <ul> found in the first <div> with class='thecontent'\")\n",
    "print(data)\n",
    "    "
   ]
  },
  {
   "cell_type": "code",
   "execution_count": 14,
   "id": "4d007663-809d-4f14-bd60-c466c2531e0e",
   "metadata": {},
   "outputs": [],
   "source": [
    "df['Team'] = data"
   ]
  },
  {
   "cell_type": "code",
   "execution_count": 17,
   "id": "68c24033-5a27-46a3-b535-73fb2e2ef4c2",
   "metadata": {},
   "outputs": [
    {
     "name": "stdout",
     "output_type": "stream",
     "text": [
      "                      Team Conference\n",
      "0            Atlanta Hawks    Eastern\n",
      "1           Boston Celtics    Eastern\n",
      "2            Brooklyn Nets    Eastern\n",
      "3        Charlotte Hornets    Eastern\n",
      "4            Chicago Bulls    Eastern\n",
      "5      Cleveland Cavaliers    Eastern\n",
      "6         Dallas Mavericks    Western\n",
      "7           Denver Nuggets    Western\n",
      "8          Detroit Pistons    Eastern\n",
      "9    Golden State Warriors    Western\n",
      "10         Houston Rockets    Western\n",
      "11          Indiana Pacers    Eastern\n",
      "12    Los Angeles Clippers    Western\n",
      "13      Los Angeles Lakers    Western\n",
      "14       Memphis Grizzlies    Eastern\n",
      "15              Miami Heat    Eastern\n",
      "16         Milwaukee Bucks    Eastern\n",
      "17  Minnesota Timberwolves    Western\n",
      "18    New Orleans Pelicans    Western\n",
      "19         New York Knicks    Eastern\n",
      "20   Oklahoma City Thunder    Western\n",
      "21           Orlando Magic    Eastern\n",
      "22      Philadelphia 76ers    Eastern\n",
      "23            Phoenix Suns    Western\n",
      "24  Portland Trail Blazers    Western\n",
      "25        Sacramento Kings    Western\n",
      "26       San Antonio Spurs    Western\n",
      "27         Toronto Raptors    Eastern\n",
      "28               Utah Jazz    Western\n",
      "29      Washington Wizards    Western\n"
     ]
    }
   ],
   "source": [
    "easter_conf = [0, 1, 2, 3, 4, 5, 8, 11, 14, 15, 16, 19, 21, 22, 27]\n",
    "west_conf = []\n",
    "for i in range(0, 30):\n",
    "    if i not in easter_conf:\n",
    "        west_conf.append(i)\n",
    "df.loc[easter_conf, 'Conference'] = 'Eastern'\n",
    "df.loc[west_conf, 'Conference'] = 'Western'\n",
    "print(df)"
   ]
  },
  {
   "cell_type": "code",
   "execution_count": 23,
   "id": "583fe360-87c1-4dc3-8dd2-5149a47ec573",
   "metadata": {},
   "outputs": [
    {
     "name": "stdout",
     "output_type": "stream",
     "text": [
      "None\n"
     ]
    },
    {
     "ename": "AttributeError",
     "evalue": "'NoneType' object has no attribute 'find'",
     "output_type": "error",
     "traceback": [
      "\u001b[1;31m---------------------------------------------------------------------------\u001b[0m",
      "\u001b[1;31mAttributeError\u001b[0m                            Traceback (most recent call last)",
      "Cell \u001b[1;32mIn[23], line 10\u001b[0m\n\u001b[0;32m      8\u001b[0m table \u001b[38;5;241m=\u001b[39m soup\u001b[38;5;241m.\u001b[39mfind(\u001b[38;5;124m'\u001b[39m\u001b[38;5;124mtable\u001b[39m\u001b[38;5;124m'\u001b[39m)\n\u001b[0;32m      9\u001b[0m \u001b[38;5;28mprint\u001b[39m(table)\n\u001b[1;32m---> 10\u001b[0m row \u001b[38;5;241m=\u001b[39m \u001b[43mtable\u001b[49m\u001b[38;5;241;43m.\u001b[39;49m\u001b[43mfind\u001b[49m(\u001b[38;5;124m'\u001b[39m\u001b[38;5;124mtr\u001b[39m\u001b[38;5;124m'\u001b[39m)\n\u001b[0;32m     11\u001b[0m \u001b[38;5;28mprint\u001b[39m(row)\n",
      "\u001b[1;31mAttributeError\u001b[0m: 'NoneType' object has no attribute 'find'"
     ]
    }
   ],
   "source": [
    "##TEAM ROSTERS\n",
    "url = 'https://www.nba.com/stats/team/1610612746'\n",
    "\n",
    "response = requests.get(url)\n",
    "\n",
    "soup = BeautifulSoup(response.content, 'html.parser')\n",
    "\n",
    "table = soup.find('table')\n",
    "print(table)\n",
    "#row = table.find('tr')\n",
    "#print(row)"
   ]
  },
  {
   "cell_type": "code",
   "execution_count": 26,
   "id": "7f527a7b-81a9-4bf2-9017-684e5a3c0100",
   "metadata": {},
   "outputs": [
    {
     "name": "stderr",
     "output_type": "stream",
     "text": [
      "C:\\Users\\kylew\\AppData\\Local\\Temp\\ipykernel_9056\\1615472578.py:21: FutureWarning: Passing literal html to 'read_html' is deprecated and will be removed in a future version. To read from a literal string, wrap it in a 'StringIO' object.\n",
      "  df = pd.read_html(str(table))[0]\n"
     ]
    },
    {
     "name": "stdout",
     "output_type": "stream",
     "text": [
      "   2023-24 Team Roster                                                  \\\n",
      "                Player  No.  Pos Height   Weight     Birthdate Age Exp   \n",
      "0    Russell Westbrook   #0    G    6-4  200 lbs  NOV 12, 1988  35  15   \n",
      "1         James Harden   #1    G    6-5  220 lbs  AUG 26, 1989  34  14   \n",
      "2        Kawhi Leonard   #2    F    6-7  225 lbs  JUN 29, 1991  32  11   \n",
      "3   Brandon Boston Jr.   #4    G    6-6  188 lbs  NOV 28, 2001  22   2   \n",
      "4         Bones Hyland   #5    G    6-2  169 lbs  SEP 14, 2000  23   2   \n",
      "5          Amir Coffey   #7  G-F    6-7  210 lbs  JUN 17, 1997  26   4   \n",
      "6         Daniel Theis  #10  F-C    6-8  245 lbs  APR 04, 1992  32   6   \n",
      "7        Jordan Miller  #11    G    6-5  194 lbs  JAN 23, 2000  24   R   \n",
      "8         Joshua Primo  #12    G    6-4  189 lbs  DEC 24, 2002  21   2   \n",
      "9          Paul George  #13    F    6-8  220 lbs  MAY 02, 1990  33  13   \n",
      "10        Terance Mann  #14  G-F    6-5  215 lbs  OCT 18, 1996  27   4   \n",
      "11         P.J. Tucker  #17    F    6-5  245 lbs  MAY 05, 1985  38  12   \n",
      "12          Kobe Brown  #21    F    6-7  250 lbs  JAN 01, 2000  24   R   \n",
      "13         Xavier Moon  #22    G    6-0  165 lbs  JAN 02, 1995  29   2   \n",
      "14       Norman Powell  #24    G    6-4  215 lbs  MAY 25, 1993  30   8   \n",
      "15      Moussa Diabate  #25    F    6-9  210 lbs  JAN 21, 2002  22   1   \n",
      "16         Ivica Zubac  #40    C    7-0  240 lbs  MAR 18, 1997  27   7   \n",
      "17       Mason Plumlee  #44  F-C   6-10  254 lbs  MAR 05, 1990  34  10   \n",
      "\n",
      "                                                                     \n",
      "                   School                              How Acquired  \n",
      "0                    UCLA                        Signed on 02/22/23  \n",
      "1           Arizona State               Traded from PHI on 11/01/23  \n",
      "2         San Diego State                        Signed on 07/09/19  \n",
      "3                Kentucky  Draft Rights Traded from NOP on 08/07/21  \n",
      "4   Virginia Commonwealth               Traded from DEN on 02/09/23  \n",
      "5               Minnesota                        Signed on 07/09/19  \n",
      "6           Brose Bamberg                        Signed on 11/17/23  \n",
      "7                   Miami                    #48 Pick in 2023 Draft  \n",
      "8                 Alabama                        Signed on 09/29/23  \n",
      "9            Fresno State               Traded from OKC on 07/10/19  \n",
      "10          Florida State                    #48 Pick in 2019 Draft  \n",
      "11                  Texas               Traded from PHI on 11/01/23  \n",
      "12               Missouri                    #30 Pick in 2023 Draft  \n",
      "13         Morehead State                        Signed on 12/25/21  \n",
      "14                   UCLA               Traded from POR on 02/04/22  \n",
      "15               Michigan                    #43 Pick in 2022 Draft  \n",
      "16            Mega Basket               Traded from LAL on 02/07/19  \n",
      "17                   Duke               Traded from CHA on 02/09/23  \n"
     ]
    }
   ],
   "source": [
    "from selenium import webdriver\n",
    "from bs4 import BeautifulSoup\n",
    "import pandas as pd\n",
    "\n",
    "# Create a new instance of the Firefox driver\n",
    "driver = webdriver.Firefox()\n",
    "\n",
    "# Go to the page that you want to scrape\n",
    "driver.get(\"https://www.nba.com/stats/team/1610612746\")\n",
    "\n",
    "# Wait for the page to fully load\n",
    "driver.implicitly_wait(10)\n",
    "\n",
    "# Parse the HTML content of the page with BeautifulSoup\n",
    "soup = BeautifulSoup(driver.page_source, 'html.parser')\n",
    "\n",
    "# Find the table in the HTML\n",
    "table = soup.find('table')\n",
    "\n",
    "# Create a DataFrame from the table\n",
    "df = pd.read_html(str(table))[0]\n",
    "\n",
    "print(df)\n",
    "\n",
    "# Close the browser\n",
    "driver.quit()\n"
   ]
  },
  {
   "cell_type": "code",
   "execution_count": null,
   "id": "f590a722-1aff-4fc9-80c9-7cb02adddef1",
   "metadata": {},
   "outputs": [],
   "source": []
  }
 ],
 "metadata": {
  "kernelspec": {
   "display_name": "Python 3 (ipykernel)",
   "language": "python",
   "name": "python3"
  },
  "language_info": {
   "codemirror_mode": {
    "name": "ipython",
    "version": 3
   },
   "file_extension": ".py",
   "mimetype": "text/x-python",
   "name": "python",
   "nbconvert_exporter": "python",
   "pygments_lexer": "ipython3",
   "version": "3.12.2"
  }
 },
 "nbformat": 4,
 "nbformat_minor": 5
}
